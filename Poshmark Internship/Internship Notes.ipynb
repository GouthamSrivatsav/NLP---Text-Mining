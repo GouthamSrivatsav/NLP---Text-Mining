{
 "cells": [
  {
   "cell_type": "markdown",
   "metadata": {
    "heading_collapsed": true
   },
   "source": [
    "### NLP"
   ]
  },
  {
   "cell_type": "markdown",
   "metadata": {
    "hidden": true
   },
   "source": [
    "**Sentiment Analysis**\n",
    "Textblob, Vader - python implementations \n"
   ]
  },
  {
   "cell_type": "markdown",
   "metadata": {
    "heading_collapsed": true,
    "hidden": true
   },
   "source": [
    "#### Text Handling"
   ]
  },
  {
   "cell_type": "code",
   "execution_count": null,
   "metadata": {
    "collapsed": true,
    "hidden": true
   },
   "outputs": [],
   "source": [
    "import re \n",
    "import nltk \n",
    "import gensim\n",
    "import gensim.corpora as corpora\n",
    "from gensim.utils import simple_preprocess\n",
    "from gensim.models import CoherenceModel\n",
    "\n",
    "import spacy\n",
    "import pyLDAvis\n",
    "import pyLDAvis.gensim\n",
    "import matplotlib.pyplot as plt\n",
    "\n",
    "%matplotlib inline\n",
    "\n",
    "import warnings\n",
    "warnings.filterwarnings(\"ignore\",category=DeprecationWarning)\n",
    "\n",
    "from pprint import pprint"
   ]
  },
  {
   "cell_type": "code",
   "execution_count": null,
   "metadata": {
    "collapsed": true,
    "hidden": true
   },
   "outputs": [],
   "source": [
    "from nltk.corpus import stopwords\n",
    "stop_words = stopwords.words('english')\n",
    "stop_words.extend(['from', 'subject', 're', 'edu', 'use'])"
   ]
  },
  {
   "cell_type": "code",
   "execution_count": null,
   "metadata": {
    "collapsed": true,
    "hidden": true
   },
   "outputs": [],
   "source": [
    "Doc_Dresses = ''\n",
    "\n",
    "for description in df1['listing_description'].loc[df1['category']== 'Dresses & Skirts'] :\n",
    "    \n",
    "  Doc_Dresses += description\n",
    "# Similarly for shoes, handbags, jewelry etc..\n",
    "## THen \n",
    "data = [Doc_Dresses, Doc_Tops, Doc_Shoes, Doc_Handbags, Doc_Jewelry]"
   ]
  },
  {
   "cell_type": "code",
   "execution_count": null,
   "metadata": {
    "collapsed": true,
    "hidden": true
   },
   "outputs": [],
   "source": [
    "# Remove Emails\n",
    "data = [re.sub('\\S*@\\S*\\s?', '', desc) for desc in data]\n",
    "# Remove new line characters\n",
    "data = [re.sub('\\s+', ' ', desc) for desc in data]\n",
    "# Remove distracting single quotes\n",
    "data = [re.sub(\"\\'\", \"\", desc) for desc in data]"
   ]
  },
  {
   "cell_type": "code",
   "execution_count": null,
   "metadata": {
    "collapsed": true,
    "hidden": true
   },
   "outputs": [],
   "source": [
    "def tokenize_to_words(sentences):\n",
    "    for sentence in sentences:\n",
    "        yield(gensim.utils.simple_preprocess(str(sentence), deacc=True)) "
   ]
  },
  {
   "cell_type": "code",
   "execution_count": null,
   "metadata": {
    "collapsed": true,
    "hidden": true
   },
   "outputs": [],
   "source": [
    "def remove_stopwords(texts):\n",
    "    return [[word for word in simple_preprocess(str(doc)) if word not in stop_words] for doc in texts]"
   ]
  },
  {
   "cell_type": "code",
   "execution_count": null,
   "metadata": {
    "collapsed": true,
    "hidden": true
   },
   "outputs": [],
   "source": [
    "def lemmatization(texts, allowed_postags=['NOUN', 'ADJ', 'VERB', 'ADV']):\n",
    "    texts_out = []\n",
    "    for sent in texts:\n",
    "        doc = nlp(\" \".join(sent[0:80000])) \n",
    "        texts_out.append([token.lemma_ for token in doc if token.pos_ in allowed_postags])\n",
    "        doc = nlp(\" \".join(sent[80000:]))\n",
    "        texts_out.append([token.lemma_ for token in doc if token.pos_ in allowed_postags])\n",
    "    k = len(texts)    \n",
    "    for i in range(0,2*k,2):\n",
    "        texts_out[int(i/2)] = texts_out[i] + texts_out[i+1]\n",
    "    del(texts_out[k:])    \n",
    "    return texts_out"
   ]
  },
  {
   "cell_type": "code",
   "execution_count": null,
   "metadata": {
    "collapsed": true,
    "hidden": true
   },
   "outputs": [],
   "source": [
    "nlp = spacy.load('en', disable=['parser', 'ner'])"
   ]
  },
  {
   "cell_type": "code",
   "execution_count": null,
   "metadata": {
    "collapsed": true,
    "hidden": true
   },
   "outputs": [],
   "source": [
    "data_tokenized = list(tokenize_to_words(data)) "
   ]
  },
  {
   "cell_type": "code",
   "execution_count": null,
   "metadata": {
    "collapsed": true,
    "hidden": true
   },
   "outputs": [],
   "source": [
    "# Removing Stop words\n",
    "data_tokenized_nostops = remove_stopwords(data_tokenized)"
   ]
  },
  {
   "cell_type": "code",
   "execution_count": null,
   "metadata": {
    "collapsed": true,
    "hidden": true
   },
   "outputs": [],
   "source": [
    "# Lemmatizing the words in the data\n",
    "data_lemmatized = lemmatization(data_tokenized_nostops, allowed_postags=['NOUN', 'ADJ', 'VERB', 'ADV'])"
   ]
  },
  {
   "cell_type": "code",
   "execution_count": null,
   "metadata": {
    "collapsed": true,
    "hidden": true
   },
   "outputs": [],
   "source": [
    "# Creating Dictionary and Corpus needed for LDA\n",
    "\n",
    "id2word = corpora.Dictionary(data_lemmatized)\n",
    "\n",
    "texts = data_lemmatized\n",
    "corpus = [id2word.doc2bow(text) for text in texts]"
   ]
  },
  {
   "cell_type": "code",
   "execution_count": null,
   "metadata": {
    "collapsed": true,
    "hidden": true
   },
   "outputs": [],
   "source": [
    "# Build LDA model\n",
    "lda_model = gensim.models.ldamodel.LdaModel(corpus=corpus,\n",
    "                                           id2word=id2word,\n",
    "                                           num_topics=20, \n",
    "                                           random_state=100,\n",
    "                                           update_every=1,\n",
    "                                           chunksize=100,\n",
    "                                           passes=10,\n",
    "                                           alpha='auto',\n",
    "                                           per_word_topics=True)"
   ]
  },
  {
   "cell_type": "code",
   "execution_count": null,
   "metadata": {
    "collapsed": true,
    "hidden": true
   },
   "outputs": [],
   "source": [
    "# Print the Keyword in the 10 topics\n",
    "pprint(lda_model.print_topics())\n",
    "doc_lda = lda_model[corpus]"
   ]
  },
  {
   "cell_type": "code",
   "execution_count": null,
   "metadata": {
    "collapsed": true,
    "hidden": true
   },
   "outputs": [],
   "source": [
    "# Compute Coherence Score for LDA Gensim Model\n",
    "coherence_model_ldamallet = CoherenceModel(model=lda_model, texts=data_lemmatized, dictionary=id2word, coherence='c_v')\n",
    "coherence_ldamallet = coherence_model_ldamallet.get_coherence()\n",
    "print('\\nCoherence Score: ', coherence_ldamallet)"
   ]
  },
  {
   "cell_type": "code",
   "execution_count": null,
   "metadata": {
    "collapsed": true,
    "hidden": true
   },
   "outputs": [],
   "source": [
    "# Compute Perplexity\n",
    "print('\\nPerplexity: ', lda_model.log_perplexity(corpus))  # a measure of how good the model is. lower the better."
   ]
  },
  {
   "cell_type": "code",
   "execution_count": null,
   "metadata": {
    "collapsed": true,
    "hidden": true
   },
   "outputs": [],
   "source": [
    "# LDA Mallet model\n",
    "mallet_path = '/Users/GArra/Downloads/mallet-2.0.8/bin/mallet' \n",
    "ldamallet = gensim.models.wrappers.LdaMallet(mallet_path, corpus=corpus, num_topics=20, id2word=id2word)"
   ]
  },
  {
   "cell_type": "code",
   "execution_count": null,
   "metadata": {
    "collapsed": true,
    "hidden": true
   },
   "outputs": [],
   "source": [
    "# Compute Coherence Score for LDA Mallet Model\n",
    "coherence_model_ldamallet = CoherenceModel(model=ldamallet, texts=data_lemmatized, dictionary=id2word, coherence='c_v')\n",
    "coherence_ldamallet = coherence_model_ldamallet.get_coherence()\n",
    "print('\\nCoherence Score: ', coherence_ldamallet)\n"
   ]
  },
  {
   "cell_type": "code",
   "execution_count": 252,
   "metadata": {
    "hidden": true,
    "scrolled": true
   },
   "outputs": [
    {
     "data": {
      "text/html": [
       "<div>\n",
       "<style scoped>\n",
       "    .dataframe tbody tr th:only-of-type {\n",
       "        vertical-align: middle;\n",
       "    }\n",
       "\n",
       "    .dataframe tbody tr th {\n",
       "        vertical-align: top;\n",
       "    }\n",
       "\n",
       "    .dataframe thead th {\n",
       "        text-align: right;\n",
       "    }\n",
       "</style>\n",
       "<table border=\"1\" class=\"dataframe\">\n",
       "  <thead>\n",
       "    <tr style=\"text-align: right;\">\n",
       "      <th></th>\n",
       "      <th>Dominant_Topic</th>\n",
       "      <th>Topic_Perc_Contrib</th>\n",
       "      <th>Keywords</th>\n",
       "      <th>Text</th>\n",
       "      <th>Document_Name</th>\n",
       "    </tr>\n",
       "  </thead>\n",
       "  <tbody>\n",
       "    <tr>\n",
       "      <th>0</th>\n",
       "      <td>107.0</td>\n",
       "      <td>0.3404</td>\n",
       "      <td>dress, skirt, fit, cute, wear, black, back, wa...</td>\n",
       "      <td>Short sleeve gray cotton dress with elastic co...</td>\n",
       "      <td>Doc_Dresses</td>\n",
       "    </tr>\n",
       "    <tr>\n",
       "      <th>1</th>\n",
       "      <td>109.0</td>\n",
       "      <td>0.3158</td>\n",
       "      <td>wear, black, size, great, white, top, conditio...</td>\n",
       "      <td>Ivory long sleeve button up cardigan with lace...</td>\n",
       "      <td>Doc_Tops</td>\n",
       "    </tr>\n",
       "    <tr>\n",
       "      <th>2</th>\n",
       "      <td>84.0</td>\n",
       "      <td>0.3701</td>\n",
       "      <td>wear, condition, worn, shoe, leather, great, b...</td>\n",
       "      <td>New without box, sexy brown Mary Janes, about ...</td>\n",
       "      <td>Doc_Shoes</td>\n",
       "    </tr>\n",
       "    <tr>\n",
       "      <th>3</th>\n",
       "      <td>102.0</td>\n",
       "      <td>0.4785</td>\n",
       "      <td>bag, condition, leather, pocket, purse, strap,...</td>\n",
       "      <td>black big Buddha handbag. it has zippers and p...</td>\n",
       "      <td>Doc_Handbags</td>\n",
       "    </tr>\n",
       "    <tr>\n",
       "      <th>4</th>\n",
       "      <td>14.0</td>\n",
       "      <td>0.5681</td>\n",
       "      <td>gold, bracelet, necklace, silver, earring, rin...</td>\n",
       "      <td>Gold Juicy Couture necklace...Bundle Jewelry h...</td>\n",
       "      <td>Doc_Jewelry</td>\n",
       "    </tr>\n",
       "  </tbody>\n",
       "</table>\n",
       "</div>"
      ],
      "text/plain": [
       "   Dominant_Topic  Topic_Perc_Contrib  \\\n",
       "0           107.0              0.3404   \n",
       "1           109.0              0.3158   \n",
       "2            84.0              0.3701   \n",
       "3           102.0              0.4785   \n",
       "4            14.0              0.5681   \n",
       "\n",
       "                                            Keywords  \\\n",
       "0  dress, skirt, fit, cute, wear, black, back, wa...   \n",
       "1  wear, black, size, great, white, top, conditio...   \n",
       "2  wear, condition, worn, shoe, leather, great, b...   \n",
       "3  bag, condition, leather, pocket, purse, strap,...   \n",
       "4  gold, bracelet, necklace, silver, earring, rin...   \n",
       "\n",
       "                                                Text Document_Name  \n",
       "0  Short sleeve gray cotton dress with elastic co...   Doc_Dresses  \n",
       "1  Ivory long sleeve button up cardigan with lace...      Doc_Tops  \n",
       "2  New without box, sexy brown Mary Janes, about ...     Doc_Shoes  \n",
       "3  black big Buddha handbag. it has zippers and p...  Doc_Handbags  \n",
       "4  Gold Juicy Couture necklace...Bundle Jewelry h...   Doc_Jewelry  "
      ]
     },
     "execution_count": 252,
     "metadata": {},
     "output_type": "execute_result"
    }
   ],
   "source": [
    "## Find Dominant Topic in each document\n",
    "\n",
    "def format_topics_sentences(ldamodel=lda_model, corpus=corpus, texts=data):\n",
    "    # Init output\n",
    "    sent_topics_df = pd.DataFrame()\n",
    "\n",
    "    # Get main topic in each document\n",
    "    for i, row in enumerate(ldamodel[corpus]):\n",
    "        row = sorted(row, key=lambda x: (x[1]), reverse=True)\n",
    "        # Get the Dominant topic, Perc Contribution and Keywords for each document\n",
    "        for j, (topic_num, prop_topic) in enumerate(row):\n",
    "            if j == 0:  # => dominant topic\n",
    "                wp = ldamodel.show_topic(topic_num)\n",
    "                topic_keywords = \", \".join([word for word, prop in wp])\n",
    "                sent_topics_df = sent_topics_df.append(pd.Series([int(topic_num), round(prop_topic,4), topic_keywords]), ignore_index=True)\n",
    "            else:\n",
    "                break\n",
    "    sent_topics_df.columns = ['Dominant_Topic', 'Perc_Contribution', 'Topic_Keywords']\n",
    "\n",
    "    # Add original text to the end of the output\n",
    "    contents = pd.Series(texts)\n",
    "    sent_topics_df = pd.concat([sent_topics_df, contents], axis=1)\n",
    "    return(sent_topics_df)\n",
    "\n",
    "\n",
    "df_topic_sents_keywords = format_topics_sentences(ldamodel=ldamallet_best, corpus=corpus, texts=data)\n",
    "# Format\n",
    "df_dominant_topic = df_topic_sents_keywords\n",
    "df_dominant_topic.columns = ['Dominant_Topic', 'Topic_Perc_Contrib', 'Keywords', 'Text']\n",
    "df_dominant_topic['Document_Name'] = ['Doc_Dresses', 'Doc_Tops', 'Doc_Shoes', 'Doc_Handbags', 'Doc_Jewelry' ]\n",
    "\n",
    "# Show\n",
    "df_dominant_topic.head(10)"
   ]
  },
  {
   "cell_type": "markdown",
   "metadata": {
    "heading_collapsed": true,
    "hidden": true
   },
   "source": [
    "#### Word2Vec"
   ]
  },
  {
   "cell_type": "code",
   "execution_count": 32,
   "metadata": {
    "collapsed": true,
    "hidden": true
   },
   "outputs": [],
   "source": [
    "from gensim.models import Word2Vec"
   ]
  },
  {
   "cell_type": "code",
   "execution_count": 33,
   "metadata": {
    "collapsed": true,
    "hidden": true
   },
   "outputs": [],
   "source": [
    "model = Word2Vec(data_lemmatized, min_count = 1 )"
   ]
  },
  {
   "cell_type": "code",
   "execution_count": 34,
   "metadata": {
    "collapsed": true,
    "hidden": true
   },
   "outputs": [],
   "source": [
    "words = list(model.wv.vocab)"
   ]
  },
  {
   "cell_type": "code",
   "execution_count": 35,
   "metadata": {
    "hidden": true
   },
   "outputs": [
    {
     "name": "stdout",
     "output_type": "stream",
     "text": [
      "53455\n"
     ]
    }
   ],
   "source": [
    "print(len(words))"
   ]
  },
  {
   "cell_type": "code",
   "execution_count": 36,
   "metadata": {
    "hidden": true
   },
   "outputs": [
    {
     "name": "stdout",
     "output_type": "stream",
     "text": [
      "[-0.01304503  0.01342003  0.01932546  0.01090605 -0.00383949  0.0057388\n",
      " -0.00799574 -0.00652699 -0.00981121 -0.02238813  0.0085053  -0.00349492\n",
      "  0.00754919 -0.03631161 -0.00754633 -0.00283785  0.01164345 -0.00776047\n",
      "  0.0092297   0.00755661  0.00281078 -0.0286162  -0.00187311  0.02846198\n",
      "  0.00235432 -0.00584758 -0.01063046 -0.01099445  0.01249471  0.00809554\n",
      "  0.0056059  -0.01445068  0.00678791 -0.007005   -0.00275999  0.00454299\n",
      " -0.01059871 -0.00958562  0.00805073  0.00711019  0.0028041   0.00387333\n",
      "  0.00494737 -0.00300251 -0.0068132  -0.0023617  -0.00135417 -0.01386133\n",
      " -0.00939176  0.00368123  0.00462883 -0.02452584  0.00873054  0.00473356\n",
      "  0.02334513  0.01333403 -0.01005444  0.00386547 -0.00058445  0.01173749\n",
      "  0.00519645  0.00626477  0.00829372  0.02498278  0.01056877  0.00196901\n",
      "  0.00101545  0.00175311 -0.01906716 -0.00262955 -0.00474445 -0.00258271\n",
      " -0.00312935  0.00465701 -0.00022017 -0.00093548 -0.01116344 -0.0020957\n",
      " -0.00690459  0.00346498  0.01041238  0.00561128 -0.00995513 -0.01365857\n",
      "  0.01354481  0.00223952 -0.00984986 -0.00144781 -0.01030154 -0.00967671\n",
      "  0.00972082 -0.00589701 -0.0127892   0.01076708  0.01289159 -0.01354873\n",
      "  0.00661646 -0.02207095  0.00848281  0.00297658]\n"
     ]
    }
   ],
   "source": [
    "print(model['archived'])"
   ]
  },
  {
   "cell_type": "code",
   "execution_count": 37,
   "metadata": {
    "collapsed": true,
    "hidden": true
   },
   "outputs": [],
   "source": [
    "X = model[model.wv.vocab]"
   ]
  },
  {
   "cell_type": "code",
   "execution_count": 38,
   "metadata": {
    "collapsed": true,
    "hidden": true
   },
   "outputs": [],
   "source": [
    "from sklearn.decomposition import PCA\n",
    "pca = PCA(n_components = 2)\n",
    "result = pca.fit_transform(X)"
   ]
  },
  {
   "cell_type": "code",
   "execution_count": 39,
   "metadata": {
    "hidden": true,
    "scrolled": true
   },
   "outputs": [
    {
     "data": {
      "image/png": "[encoded data removed]",
      "text/plain": [
       "<matplotlib.figure.Figure at 0x1a393bb7b8>"
      ]
     },
     "metadata": {},
     "output_type": "display_data"
    }
   ],
   "source": [
    "import matplotlib.pyplot as plt\n",
    "plt.scatter(result[:, 0], result[:, 1])\n",
    "#for i, word in enumerate(words):\n",
    "\t#plt.annotate(word, xy=(result[i, 0], result[i, 1]))\n",
    "plt.show()"
   ]
  },
  {
   "cell_type": "markdown",
   "metadata": {
    "heading_collapsed": true
   },
   "source": [
    "### Regression and Classification"
   ]
  },
  {
   "cell_type": "markdown",
   "metadata": {
    "heading_collapsed": true,
    "hidden": true
   },
   "source": [
    "#### Analyzing missing values"
   ]
  },
  {
   "cell_type": "code",
   "execution_count": null,
   "metadata": {
    "collapsed": true,
    "hidden": true
   },
   "outputs": [],
   "source": [
    "listings.isnull().sum()"
   ]
  },
  {
   "cell_type": "code",
   "execution_count": null,
   "metadata": {
    "collapsed": true,
    "hidden": true
   },
   "outputs": [],
   "source": [
    "col_acq_channel = df_cat.acq_channel.value_counts().nlargest(20).index.tolist()\n",
    "df_cat.acq_channel = df_cat.acq_channel.apply(lambda x: x if x in col_acq_channel else 'other')\n",
    "col_brand = df_cat.brand.value_counts().nlargest(20).index.tolist()\n",
    "df_cat.brand = df_cat.brand.apply(lambda x: x if x in col_brand else 'other')\n",
    "col_sub_category = df_cat.sub_category.value_counts().nlargest(20).index.tolist()\n",
    "df_cat.sub_category = df_cat.sub_category.apply(lambda x: x if x in col_sub_category else 'other')\n",
    "col_size = df_cat['size'].value_counts().nlargest(20).index.tolist()\n",
    "df_cat['size'] = df_cat['size'].apply(lambda x: x if x in col_size else 'OS')"
   ]
  },
  {
   "cell_type": "markdown",
   "metadata": {
    "heading_collapsed": true,
    "hidden": true
   },
   "source": [
    "#### Feature Importances"
   ]
  },
  {
   "cell_type": "code",
   "execution_count": null,
   "metadata": {
    "collapsed": true,
    "hidden": true
   },
   "outputs": [],
   "source": [
    "# Entire Dataset with log transformation\n",
    "feature_imp = dict()\n",
    "labels = X_inc.columns.tolist()\n",
    "for i in range(0,len(labels)):\n",
    "    feature_imp[labels[i]] = rfc_inc_cat.feature_importances_[i]\n",
    "feature_imp = sorted(feature_imp.items(), key = lambda x : x[1], reverse = True) \n",
    "for i in range(0, len(labels)):\n",
    "    #print (feature_imp[i][0], \" \\t \\t \\t\", feature_imp[i][1])\n",
    "    print('{0:>28} : {1:0.4f}'.format(feature_imp[i][0],feature_imp[i][1]))"
   ]
  },
  {
   "cell_type": "markdown",
   "metadata": {
    "heading_collapsed": true,
    "hidden": true
   },
   "source": [
    "#### Decile Chart"
   ]
  },
  {
   "cell_type": "code",
   "execution_count": null,
   "metadata": {
    "collapsed": true,
    "hidden": true
   },
   "outputs": [],
   "source": [
    "prob = rfc2.predict_proba(X_test)\n",
    "prob0 = [p[0] for p in prob]\n",
    "prob1 = [p[1] for p in prob]\n",
    "d = {'prob0': prob0,'prob1': prob1, 'true_ones': y_test,'pred_y':y_pred2,'listing_id': df.loc[df.d8to30manual_follows<=50].loc[X_test.index.tolist()]['listing_id']}\n",
    "df5 = pd.DataFrame(data = d)\n",
    "df5['rank'] = df5.sort_values(['prob1', 'listing_id'])['listing_id'].index + 1\n",
    "df5['qcut'] = pd.qcut(df5['prob1'].rank(method = 'first'),10)\n",
    "df5_group = df5.groupby(['qcut'])[['prob1', 'prob0', 'true_ones', 'pred_y']].sum().sort_values('true_ones', ascending = False)\n",
    "df5_group['rmse'] = df5.groupby(['qcut']).apply(lambda x: mean_squared_error(x['true_ones'],x['prob1']))\n",
    "df5_group['number'] = df5.groupby(['qcut']).apply(lambda x: len(x))\n",
    "df5_group['true_zeros'] = df5_group['number'] - df5_group['true_ones']\n",
    "df5_group['accuracy'] = df5.groupby(['qcut']).apply(lambda x: accuracy_score(x['true_ones'],x['pred_y']))\n",
    "df5_group"
   ]
  },
  {
   "cell_type": "markdown",
   "metadata": {
    "heading_collapsed": true,
    "hidden": true
   },
   "source": [
    "#### Classification Stacked Model"
   ]
  },
  {
   "cell_type": "code",
   "execution_count": null,
   "metadata": {
    "collapsed": true,
    "hidden": true
   },
   "outputs": [],
   "source": [
    "def avg_stack(models,meta_model,df):\n",
    "    X = df.drop(['timetillsale','b_sold'],axis = 1)\n",
    "    y = df.b_sold\n",
    "    base_models = [list() for model in models]\n",
    "    meta_model_ = clone(meta_model)\n",
    "    kfold = KFold(n_splits= 5,shuffle= True, random_state= 36)\n",
    "    out_of_fold_predictions = np.zeros((X.shape[0], len(base_models)))\n",
    "    for i, model in enumerate(models):\n",
    "        for train_index, valid_index in kfold.split(X,y):\n",
    "            instance = clone(model)\n",
    "            base_models[i].append(instance)\n",
    "            instance.fit(X.loc[train_index],y.loc[train_index])\n",
    "            y_pred = instance.predict(X.loc[valid_index])\n",
    "            out_of_fold_predictions[valid_index,i] = y_pred\n",
    "    meta_model.fit(out_of_fold_predictions,y)\n",
    "    meta_features = np.column_stack([np.column_stack([model.predict(X) for model in models]).mean(axis = 1)\n",
    "                                    for models in base_models])\n",
    "    print(accuracy_score(y,meta_model.predict(meta_features)))\n",
    "    return (base_models, meta_model, meta_model.predict(meta_features), meta_features)"
   ]
  },
  {
   "cell_type": "markdown",
   "metadata": {
    "heading_collapsed": true,
    "hidden": true
   },
   "source": [
    "#### Q Cut"
   ]
  },
  {
   "cell_type": "code",
   "execution_count": null,
   "metadata": {
    "collapsed": true,
    "hidden": true
   },
   "outputs": [],
   "source": [
    "def qcut(df,feature1,feature2):\n",
    "    df5 = df.copy()\n",
    "    df5['qcut'] = pd.qcut(df5[feature1],10,duplicates='drop')\n",
    "    le = LabelEncoder()\n",
    "    df5['quant_no'] = le.fit_transform(df5['qcut'])\n",
    "    group_mean = df5.groupby('qcut')[feature2].mean()\n",
    "    group_median = df5.groupby('qcut')[feature2].median()\n",
    "    group_min = df5.groupby('qcut')[feature2].min()\n",
    "    group_max = df5.groupby('qcut')[feature2].max()\n",
    "    group_num = df5.groupby('qcut').apply(lambda x : x.shape[0])\n",
    "    data = {'number': group_num,'mean':group_mean,'median':group_median,'min':group_min,\n",
    "           'max':group_max}\n",
    "    df5_group = pd.DataFrame(data)\n",
    "    return df5_group"
   ]
  },
  {
   "cell_type": "code",
   "execution_count": null,
   "metadata": {
    "collapsed": true,
    "hidden": true
   },
   "outputs": [],
   "source": [
    "d = df.loc[df.d8to30manual_follows<=50]\n",
    "d['listingprice_qcut'] = pd.qcut(d['listing_price'],10,duplicates='drop')\n",
    "pivot_table(d,values = 'b_sold', index = 'listingprice_qcut', aggfunc = [np.sum,(len)])"
   ]
  },
  {
   "cell_type": "markdown",
   "metadata": {
    "heading_collapsed": true,
    "hidden": true
   },
   "source": [
    "#### Classification model"
   ]
  },
  {
   "cell_type": "code",
   "execution_count": null,
   "metadata": {
    "collapsed": true,
    "hidden": true
   },
   "outputs": [],
   "source": [
    "def classify(model,df):\n",
    "    X = df.drop(['timetillsale','b_sold'], axis = 1)\n",
    "    y = df.b_sold\n",
    "    X_train,X_test,y_train,y_test = train_test_split(X,y, test_size = 0.3, random_state = 295)\n",
    "    model.fit(X_train, y_train)\n",
    "    y_pred = model.predict(X_test)\n",
    "    acc = accuracy_score(y_test,y_pred)\n",
    "    print('{0: 0.5f} This is the accuracy on train_test_split'.format(acc))\n",
    "    return model,y_test,y_pred"
   ]
  },
  {
   "cell_type": "markdown",
   "metadata": {
    "heading_collapsed": true,
    "hidden": true
   },
   "source": [
    "#### Handling Skewness in data"
   ]
  },
  {
   "cell_type": "code",
   "execution_count": null,
   "metadata": {
    "collapsed": true,
    "hidden": true
   },
   "outputs": [],
   "source": [
    "# Get top 10 features with largest skewness\n",
    "df_box.skew().nlargest(10)"
   ]
  },
  {
   "cell_type": "code",
   "execution_count": null,
   "metadata": {
    "collapsed": true,
    "hidden": true
   },
   "outputs": [],
   "source": [
    "num_feat = df.describe().columns.tolist()\n",
    "lamda = -1\n",
    "for feat in num_feat:\n",
    "    df_box[feat] = boxcox1p(df_box[feat], lamda)"
   ]
  },
  {
   "cell_type": "code",
   "execution_count": null,
   "metadata": {
    "collapsed": true,
    "hidden": true
   },
   "outputs": [],
   "source": [
    "# Log Transformation also helps reduce skewness\n",
    "df_box.timetillsale = np.log1p(df.timetillsale)"
   ]
  },
  {
   "cell_type": "markdown",
   "metadata": {
    "heading_collapsed": true,
    "hidden": true
   },
   "source": [
    "#### Create word vectors for sentences "
   ]
  },
  {
   "cell_type": "code",
   "execution_count": 272,
   "metadata": {
    "collapsed": true,
    "hidden": true
   },
   "outputs": [],
   "source": [
    "def makeFeatureVec(words, model, num_features):\n",
    "    featureVec = np.zeros((num_features,),dtype=\"float32\")\n",
    "    nwords = 1.\n",
    "    index2word_set = set(model.wv.index2word)\n",
    "    for word in words:\n",
    "        if word in index2word_set: \n",
    "            nwords = nwords + 1.\n",
    "            featureVec = np.add(featureVec,model[word])        \n",
    "    featureVec = np.divide(featureVec,nwords)\n",
    "    return featureVec\n",
    "\n",
    "def getAvgFeatureVecs(essays, model, num_features):\n",
    "    counter = 0\n",
    "    essayFeatureVecs = np.zeros((len(essays),num_features),dtype=\"float32\")\n",
    "    for essay in essays:\n",
    "        essayFeatureVecs[counter] = makeFeatureVec(essay, model, num_features)\n",
    "        counter = counter + 1\n",
    "    return essayFeatureVecs"
   ]
  },
  {
   "cell_type": "markdown",
   "metadata": {
    "hidden": true
   },
   "source": [
    " #### Correlation Graph"
   ]
  },
  {
   "cell_type": "code",
   "execution_count": null,
   "metadata": {
    "collapsed": true,
    "hidden": true
   },
   "outputs": [],
   "source": [
    "# df dataframe\n",
    "f,ax = plt.subplots(figsize = (12,9))\n",
    "col = df.describe().columns.tolist()\n",
    "correlation = df[col].corr(method='pearson')\n",
    "col = correlation.nlargest(10, 'timetillsale').index\n",
    "sns.set(font_scale=1.0)\n",
    "heatmap = sns.heatmap(listings[col].corr(), cbar=True, annot=True, square=True, fmt='.2f', yticklabels=col.values, xticklabels=col.values)\n",
    "plt.xticks(fontsize=14, rotation=70)\n",
    "plt.yticks(fontsize=14)\n",
    "plt.show()\n",
    "\n",
    "correlation.nlargest(10, 'timetillsale')['timetillsale']"
   ]
  },
  {
   "cell_type": "markdown",
   "metadata": {
    "heading_collapsed": true,
    "hidden": true
   },
   "source": [
    "#### Regression Model"
   ]
  },
  {
   "cell_type": "code",
   "execution_count": null,
   "metadata": {
    "collapsed": true,
    "hidden": true
   },
   "outputs": [],
   "source": [
    "def rms(model,df):\n",
    "    X = df.drop('timetillsale', axis = 1)\n",
    "    y = df.timetillsale\n",
    "    X_train, X_test, y_train, y_test = train_test_split(X,y, test_size = 0.3, random_state = 295)\n",
    "    #scaler = RobustScaler().fit(X_train)\n",
    "    #rescaled_X_train = scaler.transform(X_train)\n",
    "    #rescaled_X_test = scaler.transform(X_test)\n",
    "\n",
    "    model.fit(X_train, y_train)\n",
    "    model_pred = model.predict(X_test)\n",
    "    print(\"Entire df : RMS error on train test split in log(days)\", math.sqrt(mean_squared_error(y_test, model_pred)))\n",
    "    print(\"Entire df : RMS error on train test split in days\", math.sqrt(mean_squared_error(np.expm1(y_test), np.expm1(model_pred))),'\\n')\n",
    "    return model"
   ]
  },
  {
   "cell_type": "code",
   "execution_count": null,
   "metadata": {
    "collapsed": true,
    "hidden": true
   },
   "outputs": [],
   "source": [
    "sns.distplot(rfr1_pred, hist=False,label= 'predicted')\n",
    "sns.distplot(y_test, hist = False,label = 'True')\n",
    "plt.title('Random Forest Regressor Predicted vs True Density Graph')"
   ]
  },
  {
   "cell_type": "markdown",
   "metadata": {
    "hidden": true
   },
   "source": [
    "#### Regression Average Stacking Model"
   ]
  },
  {
   "cell_type": "code",
   "execution_count": null,
   "metadata": {
    "collapsed": true,
    "hidden": true
   },
   "outputs": [],
   "source": [
    "def avg_stack(models,meta_model,df):\n",
    "    X = df.drop('timetillsale',axis = 1)\n",
    "    y = df.timetillsale\n",
    "    base_models = [list() for model in models]\n",
    "    meta_model_ = clone(meta_model)\n",
    "    kfold = KFold(n_splits= 5,shuffle= True, random_state= 36)\n",
    "    out_of_fold_predictions = np.zeros((X.shape[0], len(base_models)))\n",
    "    for i, model in enumerate(models):\n",
    "        for train_index, valid_index in kfold.split(X,y):\n",
    "            instance = clone(model)\n",
    "            base_models[i].append(instance)\n",
    "            instance.fit(X.loc[train_index],y.loc[train_index])\n",
    "            y_pred = instance.predict(X.loc[valid_index])\n",
    "            out_of_fold_predictions[valid_index,i] = y_pred\n",
    "    meta_model.fit(out_of_fold_predictions,y)\n",
    "    meta_features = np.column_stack([np.column_stack([model.predict(X) for model in models]).mean(axis = 1)\n",
    "                                    for models in base_models])\n",
    "    print(math.sqrt(mean_squared_error(y,meta_model.predict(meta_features))))\n",
    "    return base_models, meta_model, meta_model.predict(meta_features)"
   ]
  },
  {
   "cell_type": "markdown",
   "metadata": {},
   "source": [
    "### EDA"
   ]
  },
  {
   "cell_type": "code",
   "execution_count": 2,
   "metadata": {
    "collapsed": true
   },
   "outputs": [],
   "source": [
    "library('ggplot2')\n",
    "library('repr')\n",
    "library('plyr')\n",
    "library('ggthemes')\n",
    "library('scales')"
   ]
  },
  {
   "cell_type": "code",
   "execution_count": null,
   "metadata": {
    "collapsed": true
   },
   "outputs": [],
   "source": [
    "df = read.csv('df.csv', header = TRUE)"
   ]
  },
  {
   "cell_type": "code",
   "execution_count": null,
   "metadata": {
    "collapsed": true
   },
   "outputs": [],
   "source": [
    "head(df)"
   ]
  },
  {
   "cell_type": "code",
   "execution_count": null,
   "metadata": {
    "collapsed": true
   },
   "outputs": [],
   "source": [
    "df$create_date = as.Date(df$create_date)\n",
    "df$sold_date = as.Date(df$sold_date)"
   ]
  },
  {
   "cell_type": "markdown",
   "metadata": {},
   "source": [
    "#### Histograms"
   ]
  },
  {
   "cell_type": "code",
   "execution_count": null,
   "metadata": {
    "collapsed": true
   },
   "outputs": [],
   "source": [
    "# Histogram of Timetillsale\n",
    "options(repr.plot.width=6, repr.plot.height=3)\n",
    "ggplot(aes(x = timetillsale, fill = gender), data = df) +\n",
    "geom_histogram(breaks = seq(0,60,5), position = 'dodge') + \n",
    "scale_x_continuous(breaks = seq(0,60,5)) +\n",
    "scale_y_continuous(breaks = seq(0,800000,50000))  +\n",
    "scale_fill_solarized() +\n",
    "theme_solarized(light = TRUE)+\n",
    "xlab('timetillsale')+\n",
    "ylab('count')+\n",
    "ggtitle('Distribution of Timetillsale')+ \n",
    "theme(axis.text=element_text(size=10),axis.title=element_text(size=10),plot.title = element_text(size = 12, face = \"bold\"))"
   ]
  },
  {
   "cell_type": "code",
   "execution_count": null,
   "metadata": {
    "collapsed": true
   },
   "outputs": [],
   "source": [
    "brands = c('other','Nike', 'LuLaRoe', \"Victoria's Secret\", 'J. Crew', 'lululemon athletica', 'Coach',\"PINK Victoria's Secret\", \"American Eagle Outfitters\", \"Old Navy\",\"Michael Kors\")\n",
    "# Histogram of people according to Brand\n",
    "options(repr.plot.width=16, repr.plot.height=10)\n",
    "ggplot(aes(x = brand, fill = gender), data = df_brand_10) +\n",
    "geom_bar(position = 'dodge')   +\n",
    "scale_fill_solarized() +\n",
    "theme_solarized(light = TRUE)+\n",
    "scale_y_continuous(breaks = seq(0,100000,10000))+\n",
    "xlab('Brands')+\n",
    "ylab('count')+\n",
    "ggtitle('Distribution of People according to Brand ')+ \n",
    "theme(axis.text=element_text(size=12),axis.title=element_text(size=20),plot.title = element_text(size = 24, face = \"bold\"))\n",
    "\n",
    "print(paste(nrow(subset(df, brand == 'Nike' | brand == 'LuLaRoe' | brand == \"Victoria's Secret\" | brand == 'J. Crew' | brand == 'lululemon athletica'| brand == 'Coach' | brand ==\"PINK Victoria's Secret\"| brand == \"American Eagle Outfitters\"|brand == \"Old Navy\"|brand == 'Michael Kors')), \"number of people from top 10 brands out of \", nrow(df), 'population'))"
   ]
  },
  {
   "cell_type": "code",
   "execution_count": null,
   "metadata": {
    "collapsed": true
   },
   "outputs": [],
   "source": [
    "# Histogram of Listing Price\n",
    "options(repr.plot.width=10, repr.plot.height=6)\n",
    "ggplot(aes(x = listing_price/100, fill = gender), data = subset(df, listing_price/100 <= 100)) +\n",
    "geom_histogram(breaks = seq(0,100,5), position = 'dodge') + \n",
    "scale_x_continuous(breaks = seq(0,100,5)) +\n",
    "scale_y_continuous(breaks = seq(0,500000,50000))  +\n",
    "scale_fill_solarized() +\n",
    "theme_solarized(light = TRUE)+\n",
    "xlab('listingprice')+\n",
    "ylab('count')+\n",
    "ggtitle('Distribution of listing price under 100$')+ \n",
    "theme(axis.text=element_text(size=10),axis.title=element_text(size=10),plot.title = element_text(size = 12, face = \"bold\"))"
   ]
  },
  {
   "cell_type": "code",
   "execution_count": null,
   "metadata": {
    "collapsed": true
   },
   "outputs": [],
   "source": [
    "# Histogram of Previous Items Bought\n",
    "options(repr.plot.width=10, repr.plot.height=6)\n",
    "ggplot(aes(x = prev_items_bought, fill = gender), data = subset(df, prev_items_bought < 100)) +\n",
    "geom_histogram(breaks = seq(0,100,5)) + \n",
    "scale_x_continuous(breaks = seq(0,100,5)) +\n",
    "scale_y_continuous(breaks = seq(0,700000,50000))  +\n",
    "theme_solarized(light = TRUE)+\n",
    "theme_hc(bgcolor = \"darkunica\") +\n",
    "scale_fill_hc(\"darkunica\")+\n",
    "xlab('previous items bought')+\n",
    "ylab('count')+\n",
    "ggtitle('Distribution of Previous Items bought')+ \n",
    "theme(axis.text=element_text(size=10, color = 'red'),axis.title=element_text(size=10),plot.title = element_text(size = 12, face = \"bold\"))"
   ]
  },
  {
   "cell_type": "markdown",
   "metadata": {},
   "source": [
    "#### Two Variable Graphs"
   ]
  },
  {
   "cell_type": "code",
   "execution_count": null,
   "metadata": {
    "collapsed": true
   },
   "outputs": [],
   "source": [
    "# Plot of d8to30 manual following vs Timetillsale\n",
    "ggplot(df, aes(x=d8to30manual_following, y=timetillsale, color = department)) +\n",
    "geom_point()  + \n",
    "geom_smooth(method.args= list(degree=1),span=0.75, color = 'Tomato') + \n",
    "facet_wrap(~(cut_number(listing_price/100, n = 5))) +\n",
    "ylab(\"Time till sale\") + xlab('Day 8 to 30 Manual Following')+\n",
    "ggtitle('d8to30 manual following vs timetillsale')+\n",
    "theme(axis.text=element_text(size=12),axis.title=element_text(size=14)) \n"
   ]
  }
 ],
 "metadata": {
  "kernelspec": {
   "display_name": "py36",
   "language": "python",
   "name": "py36"
  },
  "language_info": {
   "codemirror_mode": {
    "name": "ipython",
    "version": 2
   },
   "file_extension": ".py",
   "mimetype": "text/x-python",
   "name": "python",
   "nbconvert_exporter": "python",
   "pygments_lexer": "ipython2",
   "version": "2.7.14"
  }
 },
 "nbformat": 4,
 "nbformat_minor": 2
}
